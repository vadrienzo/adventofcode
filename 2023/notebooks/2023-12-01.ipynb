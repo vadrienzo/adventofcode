{
 "cells": [
  {
   "cell_type": "markdown",
   "metadata": {},
   "source": [
    "## Part 1"
   ]
  },
  {
   "cell_type": "code",
   "execution_count": 1,
   "metadata": {},
   "outputs": [
    {
     "data": {
      "text/html": [
       "<div>\n",
       "<style scoped>\n",
       "    .dataframe tbody tr th:only-of-type {\n",
       "        vertical-align: middle;\n",
       "    }\n",
       "\n",
       "    .dataframe tbody tr th {\n",
       "        vertical-align: top;\n",
       "    }\n",
       "\n",
       "    .dataframe thead th {\n",
       "        text-align: right;\n",
       "    }\n",
       "</style>\n",
       "<table border=\"1\" class=\"dataframe\">\n",
       "  <thead>\n",
       "    <tr style=\"text-align: right;\">\n",
       "      <th></th>\n",
       "      <th>potential_calibration</th>\n",
       "      <th>calibration</th>\n",
       "    </tr>\n",
       "  </thead>\n",
       "  <tbody>\n",
       "    <tr>\n",
       "      <th>0</th>\n",
       "      <td>1abc2</td>\n",
       "      <td>12</td>\n",
       "    </tr>\n",
       "    <tr>\n",
       "      <th>1</th>\n",
       "      <td>pqr3stu8vwx</td>\n",
       "      <td>38</td>\n",
       "    </tr>\n",
       "    <tr>\n",
       "      <th>2</th>\n",
       "      <td>a1b2c3d4e5f</td>\n",
       "      <td>15</td>\n",
       "    </tr>\n",
       "    <tr>\n",
       "      <th>3</th>\n",
       "      <td>treb7uchet</td>\n",
       "      <td>77</td>\n",
       "    </tr>\n",
       "  </tbody>\n",
       "</table>\n",
       "</div>"
      ],
      "text/plain": [
       "  potential_calibration  calibration\n",
       "0                 1abc2           12\n",
       "1           pqr3stu8vwx           38\n",
       "2           a1b2c3d4e5f           15\n",
       "3            treb7uchet           77"
      ]
     },
     "metadata": {},
     "output_type": "display_data"
    },
    {
     "name": "stdout",
     "output_type": "stream",
     "text": [
      "Total calibration: 142\n"
     ]
    }
   ],
   "source": [
    "import pandas as pd\n",
    "\n",
    "testdata = pd.read_csv(\"./2023/testdata/day-1-part1.csv\")\n",
    "testdata[\"calibration\"] = (\n",
    "    testdata.potential_calibration.str.findall(\"\\d\")\n",
    "    .apply(lambda x: f\"{x[0]}{x[-1]}\")\n",
    "    .astype(int)\n",
    ")\n",
    "display(testdata)\n",
    "total_calibration = testdata.calibration.sum()\n",
    "print(f\"Total calibration: {total_calibration}\")"
   ]
  },
  {
   "cell_type": "markdown",
   "metadata": {},
   "source": [
    "# Part 2"
   ]
  },
  {
   "cell_type": "code",
   "execution_count": 51,
   "metadata": {},
   "outputs": [
    {
     "data": {
      "text/html": [
       "<div>\n",
       "<style scoped>\n",
       "    .dataframe tbody tr th:only-of-type {\n",
       "        vertical-align: middle;\n",
       "    }\n",
       "\n",
       "    .dataframe tbody tr th {\n",
       "        vertical-align: top;\n",
       "    }\n",
       "\n",
       "    .dataframe thead th {\n",
       "        text-align: right;\n",
       "    }\n",
       "</style>\n",
       "<table border=\"1\" class=\"dataframe\">\n",
       "  <thead>\n",
       "    <tr style=\"text-align: right;\">\n",
       "      <th></th>\n",
       "      <th>potential_calibration</th>\n",
       "      <th>potential_calibration_modified</th>\n",
       "      <th>calibration</th>\n",
       "    </tr>\n",
       "  </thead>\n",
       "  <tbody>\n",
       "    <tr>\n",
       "      <th>0</th>\n",
       "      <td>two1nine</td>\n",
       "      <td>219</td>\n",
       "      <td>29</td>\n",
       "    </tr>\n",
       "    <tr>\n",
       "      <th>1</th>\n",
       "      <td>eightwothree</td>\n",
       "      <td>823</td>\n",
       "      <td>83</td>\n",
       "    </tr>\n",
       "    <tr>\n",
       "      <th>2</th>\n",
       "      <td>abcone2threexyz</td>\n",
       "      <td>abc123xyz</td>\n",
       "      <td>13</td>\n",
       "    </tr>\n",
       "    <tr>\n",
       "      <th>3</th>\n",
       "      <td>xtwone3four</td>\n",
       "      <td>x2134</td>\n",
       "      <td>24</td>\n",
       "    </tr>\n",
       "    <tr>\n",
       "      <th>4</th>\n",
       "      <td>4nineeightseven2</td>\n",
       "      <td>49872</td>\n",
       "      <td>42</td>\n",
       "    </tr>\n",
       "    <tr>\n",
       "      <th>5</th>\n",
       "      <td>zoneight234</td>\n",
       "      <td>z18234</td>\n",
       "      <td>14</td>\n",
       "    </tr>\n",
       "    <tr>\n",
       "      <th>6</th>\n",
       "      <td>7pqrstsixteen</td>\n",
       "      <td>7pqrst6teen</td>\n",
       "      <td>76</td>\n",
       "    </tr>\n",
       "  </tbody>\n",
       "</table>\n",
       "</div>"
      ],
      "text/plain": [
       "  potential_calibration potential_calibration_modified  calibration\n",
       "0              two1nine                            219           29\n",
       "1          eightwothree                            823           83\n",
       "2       abcone2threexyz                      abc123xyz           13\n",
       "3           xtwone3four                          x2134           24\n",
       "4      4nineeightseven2                          49872           42\n",
       "5           zoneight234                         z18234           14\n",
       "6         7pqrstsixteen                    7pqrst6teen           76"
      ]
     },
     "metadata": {},
     "output_type": "display_data"
    },
    {
     "name": "stdout",
     "output_type": "stream",
     "text": [
      "Total calibration: 281\n"
     ]
    }
   ],
   "source": [
    "import regex as re\n",
    "import number2word as n2w\n",
    "import pandas as pd\n",
    "\n",
    "testdata = pd.read_csv(\"./2023/testdata/day-1-part2.csv\")\n",
    "# dictionary from words to numbers\n",
    "words_to_number = {n2w.convert(i).lower().strip(): i for i in range(1, 10)}\n",
    "words_to_number[\"sevenine\"] = 79\n",
    "words_to_number[\"eightwo\"] = 82\n",
    "words_to_number[\"oneight\"] = 18\n",
    "words_to_number[\"twone\"] = 21\n",
    "words_to_number[\"nineight\"] = 98\n",
    "words_to_number[\"eighthree\"] = 83\n",
    "\n",
    "testdata[\n",
    "    \"potential_calibration_modified\"\n",
    "] = testdata.potential_calibration.apply(\n",
    "    lambda x: \"\".join(\n",
    "        str(words_to_number[group]) if group in words_to_number else group\n",
    "        for group in re.split(\n",
    "            r\"(sevenine|eightwo|oneight|twone|nineight|eighthree|one|two|three|four|five|six|seven|eight|nine)\",\n",
    "            x,\n",
    "        )\n",
    "    )\n",
    ")\n",
    "testdata[\"calibration\"] = (\n",
    "    testdata.potential_calibration_modified.str.findall(\"\\d\")\n",
    "    .apply(lambda x: f\"{x[0]}{x[-1]}\")\n",
    "    .astype(int)\n",
    ")\n",
    "display(testdata)\n",
    "total_calibration = testdata.calibration.sum()\n",
    "print(f\"Total calibration: {total_calibration}\")"
   ]
  }
 ],
 "metadata": {
  "kernelspec": {
   "display_name": "Python 3",
   "language": "python",
   "name": "python3"
  },
  "language_info": {
   "codemirror_mode": {
    "name": "ipython",
    "version": 3
   },
   "file_extension": ".py",
   "mimetype": "text/x-python",
   "name": "python",
   "nbconvert_exporter": "python",
   "pygments_lexer": "ipython3",
   "version": "3.11.2"
  }
 },
 "nbformat": 4,
 "nbformat_minor": 2
}
