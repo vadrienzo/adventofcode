{
 "cells": [
  {
   "cell_type": "code",
   "execution_count": 22,
   "metadata": {},
   "outputs": [],
   "source": [
    "import pandas as pd\n",
    "from pathlib import Path"
   ]
  },
  {
   "cell_type": "code",
   "execution_count": 59,
   "metadata": {},
   "outputs": [],
   "source": [
    "from typing import Hashable\n",
    "\n",
    "from pandas import DataFrame\n",
    "\n",
    "\n",
    "data_dir: Path = Path(\"2024/data\")\n",
    "dir_ = \"day\"\n",
    "df: DataFrame = pd.read_csv(data_dir / dir_ / \"day1.csv\")\n",
    "data: dict[Hashable, list[int]] = df.to_dict(orient=\"list\")"
   ]
  },
  {
   "cell_type": "markdown",
   "metadata": {},
   "source": [
    "# Part1"
   ]
  },
  {
   "cell_type": "code",
   "execution_count": 60,
   "metadata": {},
   "outputs": [
    {
     "data": {
      "text/plain": [
       "'Total distance 2,164,381'"
      ]
     },
     "execution_count": 60,
     "metadata": {},
     "output_type": "execute_result"
    }
   ],
   "source": [
    "sorted_data = {k: sorted(v) for k, v in data.items()}\n",
    "df = pd.DataFrame(sorted_data)\n",
    "df[\"distance\"] = abs(df.list_location_id1 - df.list_location_id2)\n",
    "f\"Total distance {df.distance.sum():,}\""
   ]
  },
  {
   "cell_type": "markdown",
   "metadata": {},
   "source": [
    "# Part 2"
   ]
  },
  {
   "cell_type": "code",
   "execution_count": null,
   "metadata": {},
   "outputs": [
    {
     "data": {
      "text/plain": [
       "'The similarity score 20,719,933'"
      ]
     },
     "execution_count": 61,
     "metadata": {},
     "output_type": "execute_result"
    }
   ],
   "source": [
    "# I need to count how many time the items in the data['list_location_id2'] are\n",
    "# present in the data['list_location_id1'] then multiply the count by the item\n",
    "# in the data['list_location_id1'] and sum the result. \n",
    "\n",
    "from collections import defaultdict\n",
    "\n",
    "counter:dict[int, int] = defaultdict(int)\n",
    "for item in data[\"list_location_id2\"]:\n",
    "    if item in data[\"list_location_id1\"]:\n",
    "        counter[item] += 1\n",
    "\n",
    "total = sum([item * counter[item] for item in data[\"list_location_id1\"]])\n",
    "f\"The similarity score {total:,}\""
   ]
  }
 ],
 "metadata": {
  "kernelspec": {
   "display_name": ".venv",
   "language": "python",
   "name": "python3"
  },
  "language_info": {
   "codemirror_mode": {
    "name": "ipython",
    "version": 3
   },
   "file_extension": ".py",
   "mimetype": "text/x-python",
   "name": "python",
   "nbconvert_exporter": "python",
   "pygments_lexer": "ipython3",
   "version": "3.12.1"
  }
 },
 "nbformat": 4,
 "nbformat_minor": 2
}
