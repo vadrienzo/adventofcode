{
 "cells": [
  {
   "cell_type": "markdown",
   "metadata": {},
   "source": [
    "# Day 3: Rucksack Reorganization - Part One\n",
    "\n",
    "One Elf has the important job of loading all of the rucksacks with supplies for the jungle journey. Unfortunately, that Elf didn't quite follow the packing instructions, and so a few items now need to be rearranged.\n",
    "\n",
    "Each rucksack has two large compartments. All items of a given type are meant to go into exactly one of the two compartments. The Elf that did the packing failed to follow this rule for exactly one item type per rucksack.\n",
    "\n",
    "The Elves have made a list of all of the items currently in each rucksack (your puzzle input), but they need your help finding the errors. Every item type is identified by a single lowercase or uppercase letter (that is, a and A refer to different types of items).\n",
    "\n",
    "The list of items for each rucksack is given as characters all on a single line. A given rucksack always has the same number of items in each of its two compartments, so the first half of the characters represent items in the first compartment, while the second half of the characters represent items in the second compartment.\n",
    "\n",
    "For example, suppose you have the following list of contents from six rucksacks:\n",
    "\n",
    "    vJrwpWtwJgWrhcsFMMfFFhFp\n",
    "    jqHRNqRjqzjGDLGLrsFMfFZSrLrFZsSL\n",
    "    PmmdzqPrVvPwwTWBwg\n",
    "    wMqvLMZHhHMvwLHjbvcjnnSBnvTQFn\n",
    "    ttgJtRGJQctTZtZT\n",
    "    CrZsJsPPZsGzwwsLwLmpwMDw\n",
    "\n",
    "- The first rucksack contains the items `vJrwpWtwJgWrhcsFMMfFFhFp`, which means its first compartment contains the items `vJrwpWtwJgWr`, while the second compartment contains the items `hcsFMMfFFhFp`. The only item type that appears in both compartments is lowercase `p`.\n",
    "- The second rucksack's compartments contain `jqHRNqRjqzjGDLGL` and `rsFMfFZSrLrFZsSL`. The only item type that appears in both compartments is uppercase `L`.\n",
    "- The third rucksack's compartments contain `PmmdzqPrV` and `vPwwTWBwg`; the only common item type is uppercase `P`.\n",
    "- The fourth rucksack's compartments only share item type `v`.\n",
    "- The fifth rucksack's compartments only share item type `t`.\n",
    "- The sixth rucksack's compartments only share item type `s`.\n",
    "\n",
    "To help prioritize item rearrangement, every item type can be converted to a priority:\n",
    "\n",
    "    Lowercase item types `a` through `z` have priorities `1` through `26`.\n",
    "    Uppercase item types `A` through `Z` have priorities `27` through `52`.\n",
    "\n",
    "In the above example, the priority of the item type that appears in both compartments of each rucksack is `16 (p)`, `38 (L)`, `42 (P)`, `22 (v)`, `20 (t)`, and `19 (s)`; the sum of these is `157`.\n",
    "\n",
    "**Find the item type that appears in both compartments of each rucksack. What is the sum of the priorities of those item types?**\n"
   ]
  },
  {
   "cell_type": "code",
   "execution_count": 1,
   "metadata": {},
   "outputs": [],
   "source": [
    "import pandas as pd\n",
    "import string"
   ]
  },
  {
   "cell_type": "code",
   "execution_count": 2,
   "metadata": {},
   "outputs": [],
   "source": [
    "priority_dict = { v: k\n",
    "    for k, v in enumerate(string.ascii_lowercase + string.ascii_uppercase, 1)\n",
    "}"
   ]
  },
  {
   "cell_type": "code",
   "execution_count": 3,
   "metadata": {},
   "outputs": [],
   "source": [
    "df = pd.read_csv('../data/day-3-rucksacks-reorganization.csv')"
   ]
  },
  {
   "cell_type": "code",
   "execution_count": 4,
   "metadata": {},
   "outputs": [],
   "source": [
    "df = df.assign(c1=df.rucksacks.apply(lambda x: x[:len(x) // 2]),\n",
    "               c2=df.rucksacks.apply(lambda x: x[len(x) // 2:]))"
   ]
  },
  {
   "cell_type": "code",
   "execution_count": 5,
   "metadata": {},
   "outputs": [],
   "source": [
    "def check_chr(c1, c2):\n",
    "    for c in c1:\n",
    "        if c2.__contains__(c):\n",
    "            return c"
   ]
  },
  {
   "cell_type": "code",
   "execution_count": 6,
   "metadata": {},
   "outputs": [
    {
     "data": {
      "text/html": [
       "<div>\n",
       "<style scoped>\n",
       "    .dataframe tbody tr th:only-of-type {\n",
       "        vertical-align: middle;\n",
       "    }\n",
       "\n",
       "    .dataframe tbody tr th {\n",
       "        vertical-align: top;\n",
       "    }\n",
       "\n",
       "    .dataframe thead th {\n",
       "        text-align: right;\n",
       "    }\n",
       "</style>\n",
       "<table border=\"1\" class=\"dataframe\">\n",
       "  <thead>\n",
       "    <tr style=\"text-align: right;\">\n",
       "      <th></th>\n",
       "      <th>rucksacks</th>\n",
       "      <th>c1</th>\n",
       "      <th>c2</th>\n",
       "      <th>matching_chrs</th>\n",
       "      <th>priority</th>\n",
       "    </tr>\n",
       "  </thead>\n",
       "  <tbody>\n",
       "    <tr>\n",
       "      <th>0</th>\n",
       "      <td>GbccTtTSGGbgrcWBGGrdgTnVQnCmNpCJlNnNPVfClcnN</td>\n",
       "      <td>GbccTtTSGGbgrcWBGGrdgT</td>\n",
       "      <td>nVQnCmNpCJlNnNPVfClcnN</td>\n",
       "      <td>c</td>\n",
       "      <td>3</td>\n",
       "    </tr>\n",
       "    <tr>\n",
       "      <th>1</th>\n",
       "      <td>vMzvZhzhwDLVmQnClwwNQp</td>\n",
       "      <td>vMzvZhzhwDL</td>\n",
       "      <td>VmQnClwwNQp</td>\n",
       "      <td>w</td>\n",
       "      <td>23</td>\n",
       "    </tr>\n",
       "    <tr>\n",
       "      <th>2</th>\n",
       "      <td>FRsZFzjQFsqRzRRjDZbdtTgdHBBWGrdBdHHs</td>\n",
       "      <td>FRsZFzjQFsqRzRRjDZ</td>\n",
       "      <td>bdtTgdHBBWGrdBdHHs</td>\n",
       "      <td>s</td>\n",
       "      <td>19</td>\n",
       "    </tr>\n",
       "    <tr>\n",
       "      <th>3</th>\n",
       "      <td>HCLTmbCLgzNBNPSSlT</td>\n",
       "      <td>HCLTmbCLg</td>\n",
       "      <td>zNBNPSSlT</td>\n",
       "      <td>T</td>\n",
       "      <td>46</td>\n",
       "    </tr>\n",
       "    <tr>\n",
       "      <th>4</th>\n",
       "      <td>JJGMWRJMrrdwWWGjGWMLRGLjBzNQsBzPPfflzDPBsBffDrQz</td>\n",
       "      <td>JJGMWRJMrrdwWWGjGWMLRGLj</td>\n",
       "      <td>BzNQsBzPPfflzDPBsBffDrQz</td>\n",
       "      <td>r</td>\n",
       "      <td>18</td>\n",
       "    </tr>\n",
       "    <tr>\n",
       "      <th>5</th>\n",
       "      <td>pwJdLMjdMddWjLtwZWMMwGtHhnvnCnhvqVFFZnvbgbqVCZ</td>\n",
       "      <td>pwJdLMjdMddWjLtwZWMMwGt</td>\n",
       "      <td>HhnvnCnhvqVFFZnvbgbqVCZ</td>\n",
       "      <td>Z</td>\n",
       "      <td>52</td>\n",
       "    </tr>\n",
       "    <tr>\n",
       "      <th>6</th>\n",
       "      <td>tvMCDCSVVvDDBQFRbqWMMsWgFWgc</td>\n",
       "      <td>tvMCDCSVVvDDBQ</td>\n",
       "      <td>FRbqWMMsWgFWgc</td>\n",
       "      <td>M</td>\n",
       "      <td>39</td>\n",
       "    </tr>\n",
       "    <tr>\n",
       "      <th>7</th>\n",
       "      <td>BLLPTpBmfLPrHLLfLsbhRqbzRRcRHgqssR</td>\n",
       "      <td>BLLPTpBmfLPrHLLfL</td>\n",
       "      <td>sbhRqbzRRcRHgqssR</td>\n",
       "      <td>H</td>\n",
       "      <td>34</td>\n",
       "    </tr>\n",
       "    <tr>\n",
       "      <th>8</th>\n",
       "      <td>dfdNLmPTdNZmZdZPfpmTJLPPSvQjtSGVwQSDJSjSwDQBVCGw</td>\n",
       "      <td>dfdNLmPTdNZmZdZPfpmTJLPP</td>\n",
       "      <td>SvQjtSGVwQSDJSjSwDQBVCGw</td>\n",
       "      <td>J</td>\n",
       "      <td>36</td>\n",
       "    </tr>\n",
       "    <tr>\n",
       "      <th>9</th>\n",
       "      <td>wZWTWNFqzwZbWNpSgGMVMtTHsgGs</td>\n",
       "      <td>wZWTWNFqzwZbWN</td>\n",
       "      <td>pSgGMVMtTHsgGs</td>\n",
       "      <td>T</td>\n",
       "      <td>46</td>\n",
       "    </tr>\n",
       "  </tbody>\n",
       "</table>\n",
       "</div>"
      ],
      "text/plain": [
       "                                          rucksacks                        c1  \\\n",
       "0      GbccTtTSGGbgrcWBGGrdgTnVQnCmNpCJlNnNPVfClcnN    GbccTtTSGGbgrcWBGGrdgT   \n",
       "1                            vMzvZhzhwDLVmQnClwwNQp               vMzvZhzhwDL   \n",
       "2              FRsZFzjQFsqRzRRjDZbdtTgdHBBWGrdBdHHs        FRsZFzjQFsqRzRRjDZ   \n",
       "3                                HCLTmbCLgzNBNPSSlT                 HCLTmbCLg   \n",
       "4  JJGMWRJMrrdwWWGjGWMLRGLjBzNQsBzPPfflzDPBsBffDrQz  JJGMWRJMrrdwWWGjGWMLRGLj   \n",
       "5    pwJdLMjdMddWjLtwZWMMwGtHhnvnCnhvqVFFZnvbgbqVCZ   pwJdLMjdMddWjLtwZWMMwGt   \n",
       "6                      tvMCDCSVVvDDBQFRbqWMMsWgFWgc            tvMCDCSVVvDDBQ   \n",
       "7                BLLPTpBmfLPrHLLfLsbhRqbzRRcRHgqssR         BLLPTpBmfLPrHLLfL   \n",
       "8  dfdNLmPTdNZmZdZPfpmTJLPPSvQjtSGVwQSDJSjSwDQBVCGw  dfdNLmPTdNZmZdZPfpmTJLPP   \n",
       "9                      wZWTWNFqzwZbWNpSgGMVMtTHsgGs            wZWTWNFqzwZbWN   \n",
       "\n",
       "                         c2 matching_chrs  priority  \n",
       "0    nVQnCmNpCJlNnNPVfClcnN             c         3  \n",
       "1               VmQnClwwNQp             w        23  \n",
       "2        bdtTgdHBBWGrdBdHHs             s        19  \n",
       "3                 zNBNPSSlT             T        46  \n",
       "4  BzNQsBzPPfflzDPBsBffDrQz             r        18  \n",
       "5   HhnvnCnhvqVFFZnvbgbqVCZ             Z        52  \n",
       "6            FRbqWMMsWgFWgc             M        39  \n",
       "7         sbhRqbzRRcRHgqssR             H        34  \n",
       "8  SvQjtSGVwQSDJSjSwDQBVCGw             J        36  \n",
       "9            pSgGMVMtTHsgGs             T        46  "
      ]
     },
     "execution_count": 6,
     "metadata": {},
     "output_type": "execute_result"
    }
   ],
   "source": [
    "df['matching_chrs'] = [check_chr(row.c1, row.c2) for i, row in df.iterrows()]\n",
    "df['priority'] = df.matching_chrs.apply(lambda x: priority_dict[x])\n",
    "df.head(10)"
   ]
  },
  {
   "cell_type": "code",
   "execution_count": 7,
   "metadata": {},
   "outputs": [
    {
     "data": {
      "text/plain": [
       "'The sum of the priorities for those items is: 7980'"
      ]
     },
     "execution_count": 7,
     "metadata": {},
     "output_type": "execute_result"
    }
   ],
   "source": [
    "f'The sum of the priorities for those items is: {df.priority.sum()}'"
   ]
  },
  {
   "cell_type": "markdown",
   "metadata": {},
   "source": [
    "# Day 3: Rucksack Reorganization - Part Two\n",
    "\n",
    "As you finish identifying the misplaced items, the Elves come to you with another issue.\n",
    "\n",
    "For safety, the Elves are divided into groups of three. Every Elf carries a badge that identifies their group. For efficiency, within each group of three Elves, the badge is the only item type carried by all three Elves. That is, if a group's badge is item type B, then all three Elves will have item type B somewhere in their rucksack, and at most two of the Elves will be carrying any other item type.\n",
    "\n",
    "The problem is that someone forgot to put this year's updated authenticity sticker on the badges. All of the badges need to be pulled out of the rucksacks so the new authenticity stickers can be attached.\n",
    "\n",
    "Additionally, nobody wrote down which item type corresponds to each group's badges. The only way to tell which item type is the right one is by finding the one item type that is common between all three Elves in each group.\n",
    "\n",
    "Every set of three lines in your list corresponds to a single group, but each group can have a different badge item type. So, in the above example, the first group's rucksacks are the first three lines:\n",
    "\n",
    "    vJrwpWtwJgWrhcsFMMfFFhFp\n",
    "    jqHRNqRjqzjGDLGLrsFMfFZSrLrFZsSL\n",
    "    PmmdzqPrVvPwwTWBwg\n",
    "\n",
    "And the second group's rucksacks are the next three lines:\n",
    "\n",
    "    wMqvLMZHhHMvwLHjbvcjnnSBnvTQFn\n",
    "    ttgJtRGJQctTZtZT\n",
    "    CrZsJsPPZsGzwwsLwLmpwMDw\n",
    "\n",
    "In the first group, the only item type that appears in all three rucksacks is lowercase r; this must be their badges. In the second group, their badge item type must be Z.\n",
    "\n",
    "Priorities for these items must still be found to organize the sticker attachment efforts: here, they are 18 (r) for the first group and 52 (Z) for the second group. The sum of these is 70.\n",
    "\n",
    "**Find the item type that corresponds to the badges of each three-Elf group. What is the sum of the priorities of those item types?**"
   ]
  },
  {
   "cell_type": "code",
   "execution_count": 8,
   "metadata": {},
   "outputs": [],
   "source": [
    "# splitting rucksacks into group of three\n",
    "list_of_elf_groups = [list(df.rucksacks.values)[3 * i: 3 * i + 3] for i in range(len(df.rucksacks.values) // 3)]"
   ]
  },
  {
   "cell_type": "code",
   "execution_count": 9,
   "metadata": {},
   "outputs": [],
   "source": [
    "def get_badge(l0, l1, l2):\n",
    "    for chr in l0:\n",
    "        if l1.__contains__(chr) and l2.__contains__(chr):\n",
    "            return chr"
   ]
  },
  {
   "cell_type": "code",
   "execution_count": 10,
   "metadata": {},
   "outputs": [
    {
     "data": {
      "text/plain": [
       "'The sum of the priorities for those items is: 2881'"
      ]
     },
     "execution_count": 10,
     "metadata": {},
     "output_type": "execute_result"
    }
   ],
   "source": [
    "badge_priority = [priority_dict.get(get_badge(l[0], l[1], l[2])) for l in list_of_elf_groups]\n",
    "f'The sum of the priorities for those items is: {sum(badge_priority)}'"
   ]
  }
 ],
 "metadata": {
  "kernelspec": {
   "display_name": "Python 3.11.0 64-bit",
   "language": "python",
   "name": "python3"
  },
  "language_info": {
   "codemirror_mode": {
    "name": "ipython",
    "version": 3
   },
   "file_extension": ".py",
   "mimetype": "text/x-python",
   "name": "python",
   "nbconvert_exporter": "python",
   "pygments_lexer": "ipython3",
   "version": "3.11.0"
  },
  "orig_nbformat": 4,
  "vscode": {
   "interpreter": {
    "hash": "5c7b89af1651d0b8571dde13640ecdccf7d5a6204171d6ab33e7c296e100e08a"
   }
  }
 },
 "nbformat": 4,
 "nbformat_minor": 2
}
